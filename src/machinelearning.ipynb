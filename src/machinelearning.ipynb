{
 "cells": [
  {
   "cell_type": "code",
   "execution_count": null,
   "metadata": {},
   "outputs": [],
   "source": [
    "#importando as bibliotecas\n",
    "import pandas as pd\n",
    "from sklearn.feature_selection import SelectKBest\n",
    "from sklearn.model_selection import GridSearchCV\n",
    "from sklearn.neural_network import MLPRegressor\n",
    "from sklearn.preprocessing import MinMaxScaler\n",
    "from sklearn import datasets, linear_model\n",
    "from sklearn.metrics import mean_squared_error, r2_score\n",
    "import matplotlib.pyplot as plt\n",
    "%matplotlib inline"
   ]
  },
  {
   "cell_type": "code",
   "execution_count": null,
   "metadata": {},
   "outputs": [],
   "source": [
    "#lendo o arquivo de ações \n",
    "#lendo csv\n",
    "\n",
    "df = pd.read_csv(\"./b3/all_bovespa.csv\", delimiter=',')"
   ]
  },
  {
   "cell_type": "code",
   "execution_count": 218,
   "metadata": {},
   "outputs": [
    {
     "name": "stdout",
     "output_type": "stream",
     "text": [
      "1343\n"
     ]
    }
   ],
   "source": [
    "#Ativo\n",
    "df_ativo = df[df['sigla_acao'] == 'ABEV3']"
   ]
  },
  {
   "cell_type": "code",
   "execution_count": null,
   "metadata": {},
   "outputs": [],
   "source": [
    "#Mudar o tipo data\n",
    "df_ativo['data_pregao'] = pd.to_datetime(df_ativo['data_pregao'], format= '%Y-%m-%d')"
   ]
  },
  {
   "cell_type": "code",
   "execution_count": null,
   "metadata": {},
   "outputs": [],
   "source": [
    "#craindo novos campos de medias móveis\n",
    "df_ativo['mm5d'] = df_ativo['preco_fechamento'].rolling(5).mean()\n",
    "df_ativo['mm21d'] = df_ativo['preco_fechamento'].rolling(21).mean()"
   ]
  },
  {
   "cell_type": "code",
   "execution_count": null,
   "metadata": {},
   "outputs": [],
   "source": [
    "#Empurrando para frente os valores das ações\n",
    "df_ativo['preco_fechamento'] = df_ativo['preco_fechamento'].shift(-1)"
   ]
  },
  {
   "cell_type": "code",
   "execution_count": null,
   "metadata": {},
   "outputs": [],
   "source": [
    "#retirando os dados nulos\n",
    "df_ativo.dropna(inplace=True)"
   ]
  },
  {
   "cell_type": "code",
   "execution_count": null,
   "metadata": {},
   "outputs": [],
   "source": [
    "#verificando quantidade de linhas\n",
    "qtd_linhas = len(df_ativo)\n",
    "qtd_linhas_treino = qtd_linhas - 1000\n",
    "qtd_linhas_teste = qtd_linhas - 15\n",
    "\n",
    "qtd_linhas_validadcao = qtd_linhas_treino - qtd_linhas_teste\n",
    "\n",
    "info = (\n",
    "    f\"linhas treino= 0:{qtd_linhas_treino} \"\n",
    "    f\"linhas teste= {qtd_linhas_treino}:{qtd_linhas_teste} \"\n",
    "    f\"linhas validação= {qtd_linhas_teste}:{qtd_linhas}\"\n",
    ")\n",
    "info"
   ]
  },
  {
   "cell_type": "code",
   "execution_count": null,
   "metadata": {},
   "outputs": [],
   "source": [
    "#reindexando o data frame\n",
    "df_ativo = df_ativo.reset_index(drop=True)"
   ]
  },
  {
   "cell_type": "code",
   "execution_count": null,
   "metadata": {},
   "outputs": [],
   "source": [
    "#separando as features e labels\n",
    "features = df_ativo.drop(['sigla_acao', 'nome_acao', 'data_pregao', 'preco_fechamento'], 1)\n",
    "labels = df_ativo['preco_fechamento']"
   ]
  },
  {
   "cell_type": "code",
   "execution_count": null,
   "metadata": {},
   "outputs": [],
   "source": [
    "#Escolendo as melhores features com kbest\n",
    "\n",
    "features_list = ('preco_abertura','qtd_negocios','volume_negocios','mm5d','mm21d')\n",
    "\n",
    "k_best_features = SelectKBest(k='all')\n",
    "k_best_features.fit_transform(features,labels)\n",
    "k_best_features_scores = k_best_features.scores_\n",
    "raw_pairs = zip(features_list[1:], k_best_features_scores)\n",
    "ordered_pairs = list(reversed(sorted(raw_pairs, key=lambda x: x[1])))\n",
    "\n",
    "k_best_features_final = dict(ordered_pairs[:15])\n",
    "best_features = k_best_features_final.keys()\n",
    "print('')\n",
    "print(\"Melhores features:\")\n",
    "print(k_best_features_final)"
   ]
  },
  {
   "cell_type": "code",
   "execution_count": null,
   "metadata": {},
   "outputs": [],
   "source": [
    "#separando as features escolhidas\n",
    "features = df_ativo.drop(columns=['sigla_acao','nome_acao','data_pregao','preco_fechamento','preco_abertura','mm21d'])"
   ]
  },
  {
   "cell_type": "code",
   "execution_count": null,
   "metadata": {},
   "outputs": [],
   "source": [
    "#Normalizando os dados de entrada(features)\n",
    "\n",
    "#Gerando o novo padrão\n",
    "scaler = MinMaxScaler().fit(features)\n",
    "features_scale = scaler.transform(features)"
   ]
  },
  {
   "cell_type": "code",
   "execution_count": null,
   "metadata": {},
   "outputs": [],
   "source": [
    "#Separa os dados de treino teste e validação\n",
    "x_train = features_scale[:qtd_linhas_treino]\n",
    "x_test = features_scale[qtd_linhas_treino:qtd_linhas_teste]\n",
    "\n",
    "y_train = labels[:qtd_linhas_treino]\n",
    "y_test = labels[qtd_linhas_treino:qtd_linhas_teste]\n"
   ]
  },
  {
   "cell_type": "code",
   "execution_count": null,
   "metadata": {},
   "outputs": [],
   "source": [
    "#treinamento usando regressão linear\n",
    "lr = linear_model.LinearRegression()\n",
    "lr.fit(x_train,y_train)\n",
    "pred = lr.predict(x_test)\n",
    "cd = r2_score(y_test,pred)\n",
    "\n",
    "f'Coeficiente de determinação: {cd * 100:.2f}'"
   ]
  },
  {
   "cell_type": "code",
   "execution_count": null,
   "metadata": {},
   "outputs": [],
   "source": [
    "#rede neural\n",
    "# rn = MLPRegressor(max_iter=2000)\n",
    "\n",
    "# rn.fit(x_train, y_train)\n",
    "# pred = rn.predict(x_test)\n",
    "\n",
    "# cd = rn.score(x_test,y_test)\n",
    "\n",
    "# f'Coeficiente de determinação: {cd * 100:.2f}'"
   ]
  },
  {
   "cell_type": "code",
   "execution_count": null,
   "metadata": {},
   "outputs": [],
   "source": [
    "#rede neural com ajuste hyper parameters\n",
    "\n",
    "# rn = MLPRegressor()\n",
    "\n",
    "# parameter_space = {\n",
    "#     'hidden_layer_sizes': [(i,) for i in list(range(1,21))],\n",
    "#     'activation': ['tanh', 'relu'],\n",
    "#     'solver': ['sgd', 'adam', 'lbfgs'],\n",
    "#     'alpha': [0.0001, 0.05],\n",
    "#     'learning_rate': ['constant', 'adaptive'],\n",
    "# }\n",
    "\n",
    "# search = GridSearchCV(rn, parameter_space,n_jobs=-1, cv=5)\n",
    "\n",
    "# search.fit(x_train,y_train)\n",
    "# clf = search.best_estimator_\n",
    "# pred = search.predict(x_test)\n",
    "\n",
    "# cd = search.score(x_test,y_test)\n",
    "\n",
    "# f'Coeficiente de determinação: {cd * 100:.2f}'\n"
   ]
  },
  {
   "cell_type": "code",
   "execution_count": null,
   "metadata": {},
   "outputs": [],
   "source": [
    "#executando a previsão\n",
    "\n",
    "previsao = features_scale[qtd_linhas_teste:qtd_linhas]\n",
    "\n",
    "data_pregao_full = df_ativo['data_pregao']\n",
    "data_pregao = data_pregao_full[qtd_linhas_teste:qtd_linhas]\n",
    "\n",
    "res_full = df_ativo['preco_fechamento']\n",
    "res = res_full[qtd_linhas_teste:qtd_linhas]\n",
    "\n",
    "pred = lr.predict(previsao)\n",
    "\n",
    "df = pd.DataFrame({'data_pregao': data_pregao, 'real': res, 'previsao': pred})\n",
    "df['real'] = df['real'].shift(+1)\n",
    "\n",
    "df.set_index('data_pregao', inplace=True)"
   ]
  },
  {
   "cell_type": "code",
   "execution_count": null,
   "metadata": {},
   "outputs": [],
   "source": [
    "#grafico\n",
    "plt.figure(figsize=(16,8))\n",
    "plt.title('Preço das ações')\n",
    "plt.plot(df['real'],label='real', color='blue', marker='o')\n",
    "plt.plot(df['previsao'],label='previsao', color='red', marker='o')\n",
    "plt.xlabel('Data pregão')\n",
    "plt.ylabel('Preço de Fechamento')\n",
    "leg = plt.legend()"
   ]
  }
 ],
 "metadata": {
  "interpreter": {
   "hash": "8b23ab18ca4b2d42b3c31370c612ca80f9e32468dccbc362764802d218944e55"
  },
  "kernelspec": {
   "display_name": "Python 3.9.9 64-bit ('meta5Venv': venv)",
   "language": "python",
   "name": "python3"
  },
  "language_info": {
   "codemirror_mode": {
    "name": "ipython",
    "version": 3
   },
   "file_extension": ".py",
   "mimetype": "text/x-python",
   "name": "python",
   "nbconvert_exporter": "python",
   "pygments_lexer": "ipython3",
   "version": "3.9.9"
  },
  "orig_nbformat": 4
 },
 "nbformat": 4,
 "nbformat_minor": 2
}
