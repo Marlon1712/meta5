{
 "cells": [
  {
   "cell_type": "code",
   "execution_count": 45,
   "metadata": {},
   "outputs": [],
   "source": [
    "# Importando bibliotecas\n",
    "import pandas as pd\n",
    "from datetime import datetime\n",
    "import time\n",
    "import MetaTrader5 as mt5\n",
    "\n",
    "tipo_ordem = 'V'"
   ]
  },
  {
   "cell_type": "code",
   "execution_count": 46,
   "metadata": {},
   "outputs": [],
   "source": [
    "# Conectando-se ao MetaTrader 5\n",
    "if not mt5.initialize():\n",
    "    print(\"initialize() falied\")\n",
    "    mt5.shutdown()"
   ]
  },
  {
   "cell_type": "code",
   "execution_count": 47,
   "metadata": {},
   "outputs": [],
   "source": [
    "# Obtendo Cotações\n",
    "def get_ohlc(ativo, timeframe, n=10):\n",
    "    ativo = mt5.copy_rates_from_pos(ativo, timeframe, 0, n)\n",
    "    ativo = pd.DataFrame(ativo)\n",
    "    ativo['time'] = pd.to_datetime(ativo['time'], unit = 's')\n",
    "    ativo.set_index('time', inplace=True)\n",
    "    return ativo"
   ]
  },
  {
   "cell_type": "code",
   "execution_count": 48,
   "metadata": {},
   "outputs": [
    {
     "data": {
      "text/html": [
       "<div>\n",
       "<style scoped>\n",
       "    .dataframe tbody tr th:only-of-type {\n",
       "        vertical-align: middle;\n",
       "    }\n",
       "\n",
       "    .dataframe tbody tr th {\n",
       "        vertical-align: top;\n",
       "    }\n",
       "\n",
       "    .dataframe thead th {\n",
       "        text-align: right;\n",
       "    }\n",
       "</style>\n",
       "<table border=\"1\" class=\"dataframe\">\n",
       "  <thead>\n",
       "    <tr style=\"text-align: right;\">\n",
       "      <th></th>\n",
       "      <th>open</th>\n",
       "      <th>high</th>\n",
       "      <th>low</th>\n",
       "      <th>close</th>\n",
       "      <th>tick_volume</th>\n",
       "      <th>spread</th>\n",
       "      <th>real_volume</th>\n",
       "    </tr>\n",
       "    <tr>\n",
       "      <th>time</th>\n",
       "      <th></th>\n",
       "      <th></th>\n",
       "      <th></th>\n",
       "      <th></th>\n",
       "      <th></th>\n",
       "      <th></th>\n",
       "      <th></th>\n",
       "    </tr>\n",
       "  </thead>\n",
       "  <tbody>\n",
       "    <tr>\n",
       "      <th>2021-12-23 10:25:00</th>\n",
       "      <td>1.13242</td>\n",
       "      <td>1.13269</td>\n",
       "      <td>1.13235</td>\n",
       "      <td>1.13256</td>\n",
       "      <td>282</td>\n",
       "      <td>1</td>\n",
       "      <td>0</td>\n",
       "    </tr>\n",
       "    <tr>\n",
       "      <th>2021-12-23 10:30:00</th>\n",
       "      <td>1.13256</td>\n",
       "      <td>1.13257</td>\n",
       "      <td>1.13212</td>\n",
       "      <td>1.13222</td>\n",
       "      <td>239</td>\n",
       "      <td>0</td>\n",
       "      <td>0</td>\n",
       "    </tr>\n",
       "    <tr>\n",
       "      <th>2021-12-23 10:35:00</th>\n",
       "      <td>1.13223</td>\n",
       "      <td>1.13226</td>\n",
       "      <td>1.13187</td>\n",
       "      <td>1.13205</td>\n",
       "      <td>290</td>\n",
       "      <td>0</td>\n",
       "      <td>0</td>\n",
       "    </tr>\n",
       "    <tr>\n",
       "      <th>2021-12-23 10:40:00</th>\n",
       "      <td>1.13205</td>\n",
       "      <td>1.13217</td>\n",
       "      <td>1.13182</td>\n",
       "      <td>1.13196</td>\n",
       "      <td>216</td>\n",
       "      <td>0</td>\n",
       "      <td>0</td>\n",
       "    </tr>\n",
       "    <tr>\n",
       "      <th>2021-12-23 10:45:00</th>\n",
       "      <td>1.13196</td>\n",
       "      <td>1.13196</td>\n",
       "      <td>1.13144</td>\n",
       "      <td>1.13165</td>\n",
       "      <td>200</td>\n",
       "      <td>1</td>\n",
       "      <td>0</td>\n",
       "    </tr>\n",
       "    <tr>\n",
       "      <th>2021-12-23 10:50:00</th>\n",
       "      <td>1.13166</td>\n",
       "      <td>1.13174</td>\n",
       "      <td>1.13125</td>\n",
       "      <td>1.13145</td>\n",
       "      <td>243</td>\n",
       "      <td>0</td>\n",
       "      <td>0</td>\n",
       "    </tr>\n",
       "    <tr>\n",
       "      <th>2021-12-23 10:55:00</th>\n",
       "      <td>1.13145</td>\n",
       "      <td>1.13147</td>\n",
       "      <td>1.13117</td>\n",
       "      <td>1.13147</td>\n",
       "      <td>218</td>\n",
       "      <td>1</td>\n",
       "      <td>0</td>\n",
       "    </tr>\n",
       "    <tr>\n",
       "      <th>2021-12-23 11:00:00</th>\n",
       "      <td>1.13147</td>\n",
       "      <td>1.13149</td>\n",
       "      <td>1.13106</td>\n",
       "      <td>1.13132</td>\n",
       "      <td>236</td>\n",
       "      <td>1</td>\n",
       "      <td>0</td>\n",
       "    </tr>\n",
       "    <tr>\n",
       "      <th>2021-12-23 11:05:00</th>\n",
       "      <td>1.13132</td>\n",
       "      <td>1.13152</td>\n",
       "      <td>1.13128</td>\n",
       "      <td>1.13134</td>\n",
       "      <td>246</td>\n",
       "      <td>0</td>\n",
       "      <td>0</td>\n",
       "    </tr>\n",
       "    <tr>\n",
       "      <th>2021-12-23 11:10:00</th>\n",
       "      <td>1.13134</td>\n",
       "      <td>1.13185</td>\n",
       "      <td>1.13130</td>\n",
       "      <td>1.13177</td>\n",
       "      <td>153</td>\n",
       "      <td>1</td>\n",
       "      <td>0</td>\n",
       "    </tr>\n",
       "  </tbody>\n",
       "</table>\n",
       "</div>"
      ],
      "text/plain": [
       "                        open     high      low    close  tick_volume  spread  \\\n",
       "time                                                                           \n",
       "2021-12-23 10:25:00  1.13242  1.13269  1.13235  1.13256          282       1   \n",
       "2021-12-23 10:30:00  1.13256  1.13257  1.13212  1.13222          239       0   \n",
       "2021-12-23 10:35:00  1.13223  1.13226  1.13187  1.13205          290       0   \n",
       "2021-12-23 10:40:00  1.13205  1.13217  1.13182  1.13196          216       0   \n",
       "2021-12-23 10:45:00  1.13196  1.13196  1.13144  1.13165          200       1   \n",
       "2021-12-23 10:50:00  1.13166  1.13174  1.13125  1.13145          243       0   \n",
       "2021-12-23 10:55:00  1.13145  1.13147  1.13117  1.13147          218       1   \n",
       "2021-12-23 11:00:00  1.13147  1.13149  1.13106  1.13132          236       1   \n",
       "2021-12-23 11:05:00  1.13132  1.13152  1.13128  1.13134          246       0   \n",
       "2021-12-23 11:10:00  1.13134  1.13185  1.13130  1.13177          153       1   \n",
       "\n",
       "                     real_volume  \n",
       "time                              \n",
       "2021-12-23 10:25:00            0  \n",
       "2021-12-23 10:30:00            0  \n",
       "2021-12-23 10:35:00            0  \n",
       "2021-12-23 10:40:00            0  \n",
       "2021-12-23 10:45:00            0  \n",
       "2021-12-23 10:50:00            0  \n",
       "2021-12-23 10:55:00            0  \n",
       "2021-12-23 11:00:00            0  \n",
       "2021-12-23 11:05:00            0  \n",
       "2021-12-23 11:10:00            0  "
      ]
     },
     "execution_count": 48,
     "metadata": {},
     "output_type": "execute_result"
    }
   ],
   "source": [
    "get_ohlc('EURUSD', mt5.TIMEFRAME_M5)"
   ]
  },
  {
   "cell_type": "code",
   "execution_count": 49,
   "metadata": {},
   "outputs": [
    {
     "data": {
      "text/plain": [
       "Tick(time=1640257911, bid=1.13177, ask=1.13184, last=0.0, volume=0, time_msc=1640257911049, flags=6, volume_real=0.0)"
      ]
     },
     "execution_count": 49,
     "metadata": {},
     "output_type": "execute_result"
    }
   ],
   "source": [
    "mt5.symbol_info_tick('EURUSD')"
   ]
  },
  {
   "cell_type": "code",
   "execution_count": 50,
   "metadata": {},
   "outputs": [],
   "source": [
    "# tempo = time.time() + 5\n",
    "\n",
    "# while time.time() < tempo:\n",
    "#     tick = mt5.symbol_info_tick('EURUSD')._asdict()\n",
    "#     print(f\"EURUSD:{tick['last']}, bid:{tick['bid']}, ask:{tick['ask']}\")\n",
    "#     time.sleep(0.5)"
   ]
  },
  {
   "cell_type": "code",
   "execution_count": 51,
   "metadata": {},
   "outputs": [],
   "source": [
    "# Enviando Ordens\n",
    "\n",
    "# Testando se o simbolo e valido\n",
    "symbol = 'EURUSD'\n",
    "symbol_info = mt5.symbol_info(symbol)\n",
    "if symbol_info is None:\n",
    "    print(symbol, \"não encontrado\")\n",
    "    mt5.shutdown()\n",
    "    quit()"
   ]
  },
  {
   "cell_type": "code",
   "execution_count": 52,
   "metadata": {},
   "outputs": [],
   "source": [
    "# Adicionando o simbolo se nao estiver visivel no marktwatch\n",
    "if not symbol_info.visible:\n",
    "    print(symbol, \"não esta visivel, tentando adicionar\")\n",
    "    if not mt5.symbol_select(symbol,True):\n",
    "        print(\"symbol_select({}) failed, exit\",symbol)\n",
    "        mt5.shotdown()\n",
    "        quit()"
   ]
  },
  {
   "cell_type": "code",
   "execution_count": 53,
   "metadata": {},
   "outputs": [],
   "source": [
    "# Preparan a ordem Compra\n",
    "if tipo_ordem == 'C':\n",
    "    lot = 0.10\n",
    "    point = mt5.symbol_info(symbol).point\n",
    "    price = mt5.symbol_info_tick(symbol).ask\n",
    "    deviation = 20\n",
    "    request = {\n",
    "        \"action\": mt5.TRADE_ACTION_DEAL,\n",
    "        \"symbol\": symbol,\n",
    "        \"volume\": lot,\n",
    "        \"type\": mt5.ORDER_TYPE_BUY,\n",
    "        \"price\": price,\n",
    "        \"sl\": price - 0.00050,\n",
    "        \"tp\": price + 0.00050,\n",
    "        \"deviation\": deviation,\n",
    "        \"magic\": 234000,\n",
    "        \"comment\": \"python script open\",\n",
    "        \"type_time\": mt5.ORDER_TIME_GTC,\n",
    "        \"type_filling\": mt5.ORDER_FILLING_RETURN,\n",
    "    }"
   ]
  },
  {
   "cell_type": "code",
   "execution_count": 54,
   "metadata": {},
   "outputs": [],
   "source": [
    "# Preparan a ordem Venda\n",
    "if tipo_ordem == 'V':\n",
    "    lot = 0.10\n",
    "    point = mt5.symbol_info(symbol).point\n",
    "    price = mt5.symbol_info_tick(symbol).bid\n",
    "    deviation = 20\n",
    "    request = {\n",
    "        \"action\": mt5.TRADE_ACTION_DEAL,\n",
    "        \"symbol\": symbol,\n",
    "        \"volume\": lot,\n",
    "        \"type\": mt5.ORDER_TYPE_SELL,\n",
    "        \"price\": price,\n",
    "        \"sl\": price + 0.00050,\n",
    "        \"tp\": price - 0.00050,\n",
    "        \"deviation\": deviation,\n",
    "        \"magic\": 234000,\n",
    "        \"comment\": \"python script open\",\n",
    "        \"type_time\": mt5.ORDER_TIME_GTC,\n",
    "        \"type_filling\": mt5.ORDER_FILLING_RETURN,\n",
    "    }"
   ]
  },
  {
   "cell_type": "code",
   "execution_count": 55,
   "metadata": {},
   "outputs": [
    {
     "name": "stdout",
     "output_type": "stream",
     "text": [
      "1. ordem enviada: 0.1 de EURUSD ao preço de 1.13177 com desvio de 20\n"
     ]
    }
   ],
   "source": [
    "# Enviando a ordem\n",
    "result = mt5.order_send(request)\n",
    "# verificamos o resultado da execução\n",
    "print(f\"1. ordem enviada: {lot} de {symbol} ao preço de {price} com desvio de {deviation}\")\n",
    "if result.retcode != mt5.TRADE_RETCODE_DONE:\n",
    "    print(\"2. envio de ordem falhou, retcode={}\".format(result.retcode))\n",
    "    # solicitamos o resultado na forma de dicionario e exibimos elementos\n",
    "    result_dict = result._asdict()\n",
    "    for field in result_dict.keys():\n",
    "        print(f\"  {field}={result_dict[field]}\")\n",
    "        # Se esta for uma estrutura de uma solicitação de negociação\n",
    "        if field==\"request\":\n",
    "            traderequest_dict = result_dict[field]._asdict()\n",
    "            for tradereq_filed in traderequest_dict:\n",
    "                print(f\"  traderequest: {tradereq_filed}\")\n",
    "\n",
    "    print(\"shutdown() and quit\")\n",
    "    mt5.shutdown()\n",
    "    quit()"
   ]
  }
 ],
 "metadata": {
  "interpreter": {
   "hash": "8b23ab18ca4b2d42b3c31370c612ca80f9e32468dccbc362764802d218944e55"
  },
  "kernelspec": {
   "display_name": "Python 3.9.9 64-bit ('meta5Venv': venv)",
   "language": "python",
   "name": "python3"
  },
  "language_info": {
   "codemirror_mode": {
    "name": "ipython",
    "version": 3
   },
   "file_extension": ".py",
   "mimetype": "text/x-python",
   "name": "python",
   "nbconvert_exporter": "python",
   "pygments_lexer": "ipython3",
   "version": "3.9.9"
  },
  "orig_nbformat": 4
 },
 "nbformat": 4,
 "nbformat_minor": 2
}
