{
 "cells": [
  {
   "cell_type": "code",
   "execution_count": null,
   "metadata": {},
   "outputs": [],
   "source": [
    "#Imports\n",
    "import pandas as pd\n",
    "from datetime import datetime\n",
    "import time\n",
    "import MetaTrader5 as mt5"
   ]
  },
  {
   "cell_type": "code",
   "execution_count": null,
   "metadata": {},
   "outputs": [],
   "source": [
    "#conecte-se ao MetaTrader5\n",
    "if not mt5.initialize():\n",
    "    print(\"initilize() falhou\")\n",
    "    mt5.shutdown()"
   ]
  },
  {
   "cell_type": "code",
   "execution_count": null,
   "metadata": {},
   "outputs": [],
   "source": [
    "def get_ohlc(ativo,timeframe, n=5):\n",
    "    ativo = mt5.copy_rates_from_pos(ativo,timeframe,0,n)\n",
    "    ativo = pd.DataFrame(ativo)\n",
    "    ativo['time']=pd.to_datetime(ativo['time'], unit='s')\n",
    "    ativo.set_index('time',inplace=True)\n",
    "    return ativo\n",
    "print(get_ohlc('WIN$', mt5.TIMEFRAME_M1,))"
   ]
  },
  {
   "cell_type": "code",
   "execution_count": null,
   "metadata": {},
   "outputs": [],
   "source": [
    "tempo = time.time() + 10\n",
    "while time.time() < tempo:\n",
    "    tick = mt5.symbol_info_tick('WDOU20')\n",
    "    print(f\"WIN - last:{tick.last}, bid:{tick.bid}, ask:{tick.ask}\", end='\\r')\n",
    "    time.sleep(0.5)"
   ]
  }
 ],
 "metadata": {
  "interpreter": {
   "hash": "8b23ab18ca4b2d42b3c31370c612ca80f9e32468dccbc362764802d218944e55"
  },
  "kernelspec": {
   "display_name": "Python 3.9.9 64-bit ('meta5Venv': venv)",
   "language": "python",
   "name": "python3"
  },
  "language_info": {
   "codemirror_mode": {
    "name": "ipython",
    "version": 3
   },
   "file_extension": ".py",
   "mimetype": "text/x-python",
   "name": "python",
   "nbconvert_exporter": "python",
   "pygments_lexer": "ipython3",
   "version": "3.9.9"
  },
  "orig_nbformat": 4
 },
 "nbformat": 4,
 "nbformat_minor": 2
}
